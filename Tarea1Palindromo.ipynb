{
 "cells": [
  {
   "cell_type": "markdown",
   "metadata": {},
   "source": [
    "## Tarea 1 Geoinformatica\n",
    "- Gustavo Daniel Cruz Gutiérrez\n",
    "- Crear un algoritmo que identifique si una cadena de caracteres es palíndroma y que al final te diga."
   ]
  },
  {
   "cell_type": "code",
   "execution_count": 10,
   "metadata": {},
   "outputs": [
    {
     "name": "stdout",
     "output_type": "stream",
     "text": [
      "Escriba la palabra en minusculaslavan esa base naval\n",
      "lavan esa base naval si es palindromo\n"
     ]
    }
   ],
   "source": [
    "palabra1 = input(\"Escriba la palabra en minusculas\")\n",
    "palabrax1=(palabra1.replace(' ', ''))\n",
    "palabra2 = palabra1[::-1]\n",
    "palabrax2=(palabra2.replace(' ', ''))\n",
    "if palabrax1==palabrax2:\n",
    "    print(palabra1, \"si es palindromo\")\n",
    "else:\n",
    "    print(palabra1, \"no es palindromo\")"
   ]
  },
  {
   "cell_type": "code",
   "execution_count": null,
   "metadata": {},
   "outputs": [],
   "source": []
  }
 ],
 "metadata": {
  "kernelspec": {
   "display_name": "Python 3",
   "language": "python",
   "name": "python3"
  },
  "language_info": {
   "codemirror_mode": {
    "name": "ipython",
    "version": 3
   },
   "file_extension": ".py",
   "mimetype": "text/x-python",
   "name": "python",
   "nbconvert_exporter": "python",
   "pygments_lexer": "ipython3",
   "version": "3.8.3"
  }
 },
 "nbformat": 4,
 "nbformat_minor": 4
}
